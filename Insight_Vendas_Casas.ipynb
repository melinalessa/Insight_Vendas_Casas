{
  "nbformat": 4,
  "nbformat_minor": 0,
  "metadata": {
    "colab": {
      "provenance": [],
      "mount_file_id": "17ra-SeyKQfijGDXzYQhHgaGnliBqz2VF",
      "authorship_tag": "ABX9TyNSmH6yyY3uw0l0yS3gRrE3",
      "include_colab_link": true
    },
    "kernelspec": {
      "name": "python3",
      "display_name": "Python 3"
    },
    "language_info": {
      "name": "python"
    }
  },
  "cells": [
    {
      "cell_type": "markdown",
      "metadata": {
        "id": "view-in-github",
        "colab_type": "text"
      },
      "source": [
        "<a href=\"https://colab.research.google.com/github/melinalessa/Insight_Vendas_Casas/blob/main/Insight_Vendas_Casas.ipynb\" target=\"_parent\"><img src=\"https://colab.research.google.com/assets/colab-badge.svg\" alt=\"Open In Colab\"/></a>"
      ]
    },
    {
      "cell_type": "code",
      "execution_count": 3,
      "metadata": {
        "colab": {
          "base_uri": "https://localhost:8080/"
        },
        "id": "hAajHy29zZdl",
        "outputId": "033c000d-e5e9-43fc-dee6-3b1f285b611d"
      },
      "outputs": [
        {
          "output_type": "stream",
          "name": "stdout",
          "text": [
            "               id             date     price  bedrooms  bathrooms  \\\n",
            "0      7129300520  20141013T000000  221900.0         3       1.00   \n",
            "1      6414100192  20141209T000000  538000.0         3       2.25   \n",
            "2      5631500400  20150225T000000  180000.0         2       1.00   \n",
            "3      2487200875  20141209T000000  604000.0         4       3.00   \n",
            "4      1954400510  20150218T000000  510000.0         3       2.00   \n",
            "...           ...              ...       ...       ...        ...   \n",
            "21608   263000018  20140521T000000  360000.0         3       2.50   \n",
            "21609  6600060120  20150223T000000  400000.0         4       2.50   \n",
            "21610  1523300141  20140623T000000  402101.0         2       0.75   \n",
            "21611   291310100  20150116T000000  400000.0         3       2.50   \n",
            "21612  1523300157  20141015T000000  325000.0         2       0.75   \n",
            "\n",
            "       sqft_living  sqft_lot  floors  waterfront  view  ...  grade  \\\n",
            "0             1180      5650     1.0           0     0  ...      7   \n",
            "1             2570      7242     2.0           0     0  ...      7   \n",
            "2              770     10000     1.0           0     0  ...      6   \n",
            "3             1960      5000     1.0           0     0  ...      7   \n",
            "4             1680      8080     1.0           0     0  ...      8   \n",
            "...            ...       ...     ...         ...   ...  ...    ...   \n",
            "21608         1530      1131     3.0           0     0  ...      8   \n",
            "21609         2310      5813     2.0           0     0  ...      8   \n",
            "21610         1020      1350     2.0           0     0  ...      7   \n",
            "21611         1600      2388     2.0           0     0  ...      8   \n",
            "21612         1020      1076     2.0           0     0  ...      7   \n",
            "\n",
            "       sqft_above  sqft_basement  yr_built  yr_renovated  zipcode      lat  \\\n",
            "0            1180              0      1955             0    98178  47.5112   \n",
            "1            2170            400      1951          1991    98125  47.7210   \n",
            "2             770              0      1933             0    98028  47.7379   \n",
            "3            1050            910      1965             0    98136  47.5208   \n",
            "4            1680              0      1987             0    98074  47.6168   \n",
            "...           ...            ...       ...           ...      ...      ...   \n",
            "21608        1530              0      2009             0    98103  47.6993   \n",
            "21609        2310              0      2014             0    98146  47.5107   \n",
            "21610        1020              0      2009             0    98144  47.5944   \n",
            "21611        1600              0      2004             0    98027  47.5345   \n",
            "21612        1020              0      2008             0    98144  47.5941   \n",
            "\n",
            "          long  sqft_living15  sqft_lot15  \n",
            "0     -122.257           1340        5650  \n",
            "1     -122.319           1690        7639  \n",
            "2     -122.233           2720        8062  \n",
            "3     -122.393           1360        5000  \n",
            "4     -122.045           1800        7503  \n",
            "...        ...            ...         ...  \n",
            "21608 -122.346           1530        1509  \n",
            "21609 -122.362           1830        7200  \n",
            "21610 -122.299           1020        2007  \n",
            "21611 -122.069           1410        1287  \n",
            "21612 -122.299           1020        1357  \n",
            "\n",
            "[21613 rows x 21 columns]\n"
          ]
        }
      ],
      "source": [
        "\n",
        "#ADD BIBLIOTECAS\n",
        "\n",
        "import numpy as np\n",
        "import pandas as pd\n",
        "\n",
        "import matplotlib as mpl\n",
        "import matplotlib.pyplot as plt\n",
        "\n",
        "import seaborn as sns\n",
        "import seaborn.objects as so\n",
        "\n",
        "#Importar banco de dados\n",
        "df = pd.read_csv('/content/drive/MyDrive/DEV/Insight_Vendas_Casas/kc_house_data.csv')\n",
        "print(df)\n"
      ]
    },
    {
      "cell_type": "code",
      "source": [
        "\n",
        "#Analisar nome das colunas\n",
        "df.columns"
      ],
      "metadata": {
        "colab": {
          "base_uri": "https://localhost:8080/"
        },
        "id": "BEZp8IIj2mq2",
        "outputId": "e0392280-e694-4b1a-a47c-eed8c55b2f6f"
      },
      "execution_count": 5,
      "outputs": [
        {
          "output_type": "execute_result",
          "data": {
            "text/plain": [
              "Index(['id', 'date', 'price', 'bedrooms', 'bathrooms', 'sqft_living',\n",
              "       'sqft_lot', 'floors', 'waterfront', 'view', 'condition', 'grade',\n",
              "       'sqft_above', 'sqft_basement', 'yr_built', 'yr_renovated', 'zipcode',\n",
              "       'lat', 'long', 'sqft_living15', 'sqft_lot15'],\n",
              "      dtype='object')"
            ]
          },
          "metadata": {},
          "execution_count": 5
        }
      ]
    },
    {
      "cell_type": "code",
      "source": [
        "#Analisar as variaveis das colunas\n",
        "print( df.dtypes )"
      ],
      "metadata": {
        "colab": {
          "base_uri": "https://localhost:8080/"
        },
        "id": "WMVN1dC922iL",
        "outputId": "48bdfcab-60c4-4632-f8d2-0cc566d65344"
      },
      "execution_count": 6,
      "outputs": [
        {
          "output_type": "stream",
          "name": "stdout",
          "text": [
            "id                 int64\n",
            "date              object\n",
            "price            float64\n",
            "bedrooms           int64\n",
            "bathrooms        float64\n",
            "sqft_living        int64\n",
            "sqft_lot           int64\n",
            "floors           float64\n",
            "waterfront         int64\n",
            "view               int64\n",
            "condition          int64\n",
            "grade              int64\n",
            "sqft_above         int64\n",
            "sqft_basement      int64\n",
            "yr_built           int64\n",
            "yr_renovated       int64\n",
            "zipcode            int64\n",
            "lat              float64\n",
            "long             float64\n",
            "sqft_living15      int64\n",
            "sqft_lot15         int64\n",
            "dtype: object\n"
          ]
        }
      ]
    },
    {
      "cell_type": "code",
      "source": [
        "#Alteracao na data\n",
        "df['date'] = pd.to_datetime( df['date'])"
      ],
      "metadata": {
        "id": "-tM6-fqk3DNu"
      },
      "execution_count": 8,
      "outputs": []
    },
    {
      "cell_type": "code",
      "source": [
        "print( df.dtypes )"
      ],
      "metadata": {
        "colab": {
          "base_uri": "https://localhost:8080/"
        },
        "id": "xEgfIgOI4iqs",
        "outputId": "7ff3708e-ce00-42c2-d10a-70ff92bfb03f"
      },
      "execution_count": 9,
      "outputs": [
        {
          "output_type": "stream",
          "name": "stdout",
          "text": [
            "id                        int64\n",
            "date             datetime64[ns]\n",
            "price                   float64\n",
            "bedrooms                  int64\n",
            "bathrooms               float64\n",
            "sqft_living               int64\n",
            "sqft_lot                  int64\n",
            "floors                  float64\n",
            "waterfront                int64\n",
            "view                      int64\n",
            "condition                 int64\n",
            "grade                     int64\n",
            "sqft_above                int64\n",
            "sqft_basement             int64\n",
            "yr_built                  int64\n",
            "yr_renovated              int64\n",
            "zipcode                   int64\n",
            "lat                     float64\n",
            "long                    float64\n",
            "sqft_living15             int64\n",
            "sqft_lot15                int64\n",
            "dtype: object\n"
          ]
        }
      ]
    },
    {
      "cell_type": "code",
      "source": [
        "#Qual a data do imovel mais antigo no portfolio?\n",
        "print( df.sort_values('date',ascending=True) )"
      ],
      "metadata": {
        "colab": {
          "base_uri": "https://localhost:8080/"
        },
        "id": "zQ2QZACd4tEL",
        "outputId": "a7a5412d-0c97-4849-991b-fdbd90a628f5"
      },
      "execution_count": 10,
      "outputs": [
        {
          "output_type": "stream",
          "name": "stdout",
          "text": [
            "               id       date      price  bedrooms  bathrooms  sqft_living  \\\n",
            "16768  5561000190 2014-05-02   437500.0         3       2.25         1970   \n",
            "9596    472000620 2014-05-02   790000.0         3       2.50         2600   \n",
            "9587   1024069009 2014-05-02   675000.0         5       2.50         2820   \n",
            "20602  7853361370 2014-05-02   555000.0         4       2.50         3310   \n",
            "11577  5056500260 2014-05-02   440000.0         4       2.25         2160   \n",
            "...           ...        ...        ...       ...        ...          ...   \n",
            "7898   1422700040 2015-05-14   183000.0         3       1.00         1170   \n",
            "928    8730000270 2015-05-14   359000.0         2       2.75         1370   \n",
            "5637   7923600250 2015-05-15   450000.0         5       2.00         1870   \n",
            "13053  5101400871 2015-05-24   445500.0         2       1.75         1390   \n",
            "16594  9106000005 2015-05-27  1310000.0         4       2.25         3750   \n",
            "\n",
            "       sqft_lot  floors  waterfront  view  ...  grade  sqft_above  \\\n",
            "16768     35100     2.0           0     0  ...      9        1970   \n",
            "9596       4750     1.0           0     0  ...      9        1700   \n",
            "9587      67518     2.0           0     0  ...      8        2820   \n",
            "20602      6500     2.0           0     0  ...      8        3310   \n",
            "11577      8119     1.0           0     0  ...      8        1080   \n",
            "...         ...     ...         ...   ...  ...    ...         ...   \n",
            "7898       7320     1.0           0     0  ...      7        1170   \n",
            "928        1140     2.0           0     0  ...      8        1080   \n",
            "5637       7344     1.5           0     0  ...      7        1870   \n",
            "13053      6670     1.0           0     0  ...      6         720   \n",
            "16594      5000     2.0           0     0  ...      8        2440   \n",
            "\n",
            "       sqft_basement  yr_built  yr_renovated  zipcode      lat     long  \\\n",
            "16768              0      1977             0    98027  47.4635 -121.991   \n",
            "9596             900      1951             0    98117  47.6833 -122.400   \n",
            "9587               0      1979             0    98029  47.5794 -122.025   \n",
            "20602              0      2012             0    98065  47.5150 -121.870   \n",
            "11577           1080      1966             0    98006  47.5443 -122.177   \n",
            "...              ...       ...           ...      ...      ...      ...   \n",
            "7898               0      1962             0    98188  47.4685 -122.282   \n",
            "928              290      2009             0    98133  47.7052 -122.343   \n",
            "5637               0      1960             0    98007  47.5951 -122.144   \n",
            "13053            670      1941             0    98115  47.6914 -122.308   \n",
            "16594           1310      1924             0    98115  47.6747 -122.303   \n",
            "\n",
            "       sqft_living15  sqft_lot15  \n",
            "16768           2340       35100  \n",
            "9596            2380        4750  \n",
            "9587            2820       48351  \n",
            "20602           2380        5000  \n",
            "11577           1850        9000  \n",
            "...              ...         ...  \n",
            "7898            2040        7320  \n",
            "928             1370        1090  \n",
            "5637            1870        7650  \n",
            "13053            920        6380  \n",
            "16594           2170        4590  \n",
            "\n",
            "[21613 rows x 21 columns]\n"
          ]
        }
      ]
    },
    {
      "cell_type": "code",
      "source": [
        "#Quantos imóvies possuem o número máximo de andares?\n",
        "print( df['floors'].unique() )"
      ],
      "metadata": {
        "colab": {
          "base_uri": "https://localhost:8080/"
        },
        "id": "N0PH2H7m5tdm",
        "outputId": "672bbed4-8eb5-4f0c-d667-116117e3677c"
      },
      "execution_count": 14,
      "outputs": [
        {
          "output_type": "stream",
          "name": "stdout",
          "text": [
            "[1.  2.  1.5 3.  2.5 3.5]\n"
          ]
        }
      ]
    },
    {
      "cell_type": "code",
      "source": [
        "print( df[df['floors'] == 3.5][['floors', 'id']] )"
      ],
      "metadata": {
        "colab": {
          "base_uri": "https://localhost:8080/"
        },
        "id": "50tEpcxg5HCl",
        "outputId": "c13ff057-0fa2-46d3-de9a-bad2bdc28fe1"
      },
      "execution_count": 12,
      "outputs": [
        {
          "output_type": "stream",
          "name": "stdout",
          "text": [
            "       floors          id\n",
            "875       3.5  6306400140\n",
            "10077     3.5  1972202010\n",
            "11594     3.5  3180100023\n",
            "14885     3.5  8673400177\n",
            "15424     3.5  1702900664\n",
            "18477     3.5  1346300150\n",
            "20308     3.5  1972200426\n",
            "20772     3.5  1972200428\n"
          ]
        }
      ]
    },
    {
      "cell_type": "code",
      "source": [
        "#Criar uma classificação para os imóveis em ordem decrescente por valor. \n",
        "#Acima de R$ 540.000,00 - Alto padrão Abaixo de R$ 540.000,00 - Baixo padrão\n",
        "\n",
        "#criacao de coluna\n",
        "df['level'] = 'standart'\n"
      ],
      "metadata": {
        "colab": {
          "base_uri": "https://localhost:8080/"
        },
        "id": "c6oCtpMN6He_",
        "outputId": "ddeb03d5-4555-41eb-ba5e-61865a53fa92"
      },
      "execution_count": 16,
      "outputs": [
        {
          "output_type": "stream",
          "name": "stdout",
          "text": [
            "               id       date     price  bedrooms  bathrooms  sqft_living  \\\n",
            "0      7129300520 2014-10-13  221900.0         3       1.00         1180   \n",
            "1      6414100192 2014-12-09  538000.0         3       2.25         2570   \n",
            "2      5631500400 2015-02-25  180000.0         2       1.00          770   \n",
            "3      2487200875 2014-12-09  604000.0         4       3.00         1960   \n",
            "4      1954400510 2015-02-18  510000.0         3       2.00         1680   \n",
            "...           ...        ...       ...       ...        ...          ...   \n",
            "21608   263000018 2014-05-21  360000.0         3       2.50         1530   \n",
            "21609  6600060120 2015-02-23  400000.0         4       2.50         2310   \n",
            "21610  1523300141 2014-06-23  402101.0         2       0.75         1020   \n",
            "21611   291310100 2015-01-16  400000.0         3       2.50         1600   \n",
            "21612  1523300157 2014-10-15  325000.0         2       0.75         1020   \n",
            "\n",
            "       sqft_lot  floors  waterfront  view  ...  sqft_above  sqft_basement  \\\n",
            "0          5650     1.0           0     0  ...        1180              0   \n",
            "1          7242     2.0           0     0  ...        2170            400   \n",
            "2         10000     1.0           0     0  ...         770              0   \n",
            "3          5000     1.0           0     0  ...        1050            910   \n",
            "4          8080     1.0           0     0  ...        1680              0   \n",
            "...         ...     ...         ...   ...  ...         ...            ...   \n",
            "21608      1131     3.0           0     0  ...        1530              0   \n",
            "21609      5813     2.0           0     0  ...        2310              0   \n",
            "21610      1350     2.0           0     0  ...        1020              0   \n",
            "21611      2388     2.0           0     0  ...        1600              0   \n",
            "21612      1076     2.0           0     0  ...        1020              0   \n",
            "\n",
            "       yr_built  yr_renovated  zipcode      lat     long  sqft_living15  \\\n",
            "0          1955             0    98178  47.5112 -122.257           1340   \n",
            "1          1951          1991    98125  47.7210 -122.319           1690   \n",
            "2          1933             0    98028  47.7379 -122.233           2720   \n",
            "3          1965             0    98136  47.5208 -122.393           1360   \n",
            "4          1987             0    98074  47.6168 -122.045           1800   \n",
            "...         ...           ...      ...      ...      ...            ...   \n",
            "21608      2009             0    98103  47.6993 -122.346           1530   \n",
            "21609      2014             0    98146  47.5107 -122.362           1830   \n",
            "21610      2009             0    98144  47.5944 -122.299           1020   \n",
            "21611      2004             0    98027  47.5345 -122.069           1410   \n",
            "21612      2008             0    98144  47.5941 -122.299           1020   \n",
            "\n",
            "       sqft_lot15     level  \n",
            "0            5650  standart  \n",
            "1            7639  standart  \n",
            "2            8062  standart  \n",
            "3            5000  standart  \n",
            "4            7503  standart  \n",
            "...           ...       ...  \n",
            "21608        1509  standart  \n",
            "21609        7200  standart  \n",
            "21610        2007  standart  \n",
            "21611        1287  standart  \n",
            "21612        1357  standart  \n",
            "\n",
            "[21613 rows x 22 columns]\n"
          ]
        }
      ]
    },
    {
      "cell_type": "code",
      "source": [
        "#classificar as casas em Premium & Standart de acordo com o valor de venda\n",
        "\n",
        "df.loc[df['price'] > 540000, 'level'] = 'premium'\n",
        "df.loc[df['price'] < 540000, 'level'] = 'standart'\n",
        "print( df [['id', 'price', 'level']].head() )"
      ],
      "metadata": {
        "colab": {
          "base_uri": "https://localhost:8080/"
        },
        "id": "w_qdsHFc7-uD",
        "outputId": "b80dd421-ec71-4389-e07a-461dcfdd9ee9"
      },
      "execution_count": 25,
      "outputs": [
        {
          "output_type": "stream",
          "name": "stdout",
          "text": [
            "           id     price     level\n",
            "0  7129300520  221900.0  standart\n",
            "1  6414100192  538000.0  standart\n",
            "2  5631500400  180000.0  standart\n",
            "3  2487200875  604000.0   premium\n",
            "4  1954400510  510000.0  standart\n"
          ]
        }
      ]
    }
  ]
}